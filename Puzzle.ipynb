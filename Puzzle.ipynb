{
  "nbformat": 4,
  "nbformat_minor": 0,
  "metadata": {
    "colab": {
      "name": "Puzzle.ipynb",
      "provenance": [],
      "collapsed_sections": [],
      "include_colab_link": true
    },
    "kernelspec": {
      "name": "python3",
      "display_name": "Python 3"
    },
    "language_info": {
      "name": "python"
    }
  },
  "cells": [
    {
      "cell_type": "markdown",
      "metadata": {
        "id": "view-in-github",
        "colab_type": "text"
      },
      "source": [
        "<a href=\"https://colab.research.google.com/github/shimaaahmedd/Puzzle/blob/main/Puzzle.ipynb\" target=\"_parent\"><img src=\"https://colab.research.google.com/assets/colab-badge.svg\" alt=\"Open In Colab\"/></a>"
      ]
    },
    {
      "cell_type": "code",
      "metadata": {
        "id": "Pa57DUCmczvK"
      },
      "source": [
        "import numpy as np\n",
        "import queue \n",
        "import time"
      ],
      "execution_count": null,
      "outputs": []
    },
    {
      "cell_type": "code",
      "metadata": {
        "colab": {
          "base_uri": "https://localhost:8080/"
        },
        "id": "rvluXkBUd-1a",
        "outputId": "bf9b7d99-dece-4a7e-b353-9483764fe3e2"
      },
      "source": [
        "goal = np.zeros((3,3))\n",
        "for i in range(3):\n",
        "  for j in range(3):\n",
        "   goal[i][j] = input(\"Enter number in place row {} and column {} of goal Matrix: \".format(i,j))\n",
        "goal = goal.astype(int)\n",
        "print( \"The Goal Matrix: \\n {}\".format(goal))"
      ],
      "execution_count": null,
      "outputs": [
        {
          "output_type": "stream",
          "name": "stdout",
          "text": [
            "Enter number in place row 0 and column 0 of goal Matrix: 0\n",
            "Enter number in place row 0 and column 1 of goal Matrix: 1\n",
            "Enter number in place row 0 and column 2 of goal Matrix: 2\n",
            "Enter number in place row 1 and column 0 of goal Matrix: 3\n",
            "Enter number in place row 1 and column 1 of goal Matrix: 4\n",
            "Enter number in place row 1 and column 2 of goal Matrix: 5\n",
            "Enter number in place row 2 and column 0 of goal Matrix: 6\n",
            "Enter number in place row 2 and column 1 of goal Matrix: 7\n",
            "Enter number in place row 2 and column 2 of goal Matrix: 8\n",
            "The Goal Matrix: \n",
            " [[0 1 2]\n",
            " [3 4 5]\n",
            " [6 7 8]]\n"
          ]
        }
      ]
    },
    {
      "cell_type": "code",
      "metadata": {
        "id": "Yr-ZrH9oeEpe",
        "colab": {
          "base_uri": "https://localhost:8080/"
        },
        "outputId": "f33d6329-5fb6-48be-fd49-e090dab65ade"
      },
      "source": [
        "puzzle = np.zeros((3,3))\n",
        "for i in range(3):\n",
        "  for j in range(3):\n",
        "    puzzle[i][j] = input(\"Enter number in place row {} and column {} of inital state puzzle: \".format(i,j))\n",
        "\n",
        "puzzle = puzzle.astype(int)\n",
        "print( \"The Initial State Puzzle: \\n {}\".format(puzzle))"
      ],
      "execution_count": null,
      "outputs": [
        {
          "output_type": "stream",
          "name": "stdout",
          "text": [
            "Enter number in place row 0 and column 0 of inital state puzzle: 0\n",
            "Enter number in place row 0 and column 1 of inital state puzzle: 8\n",
            "Enter number in place row 0 and column 2 of inital state puzzle: 7\n",
            "Enter number in place row 1 and column 0 of inital state puzzle: 6\n",
            "Enter number in place row 1 and column 1 of inital state puzzle: 5\n",
            "Enter number in place row 1 and column 2 of inital state puzzle: 4\n",
            "Enter number in place row 2 and column 0 of inital state puzzle: 3\n",
            "Enter number in place row 2 and column 1 of inital state puzzle: 2\n",
            "Enter number in place row 2 and column 2 of inital state puzzle: 1\n",
            "The Initial State Puzzle: \n",
            " [[0 8 7]\n",
            " [6 5 4]\n",
            " [3 2 1]]\n"
          ]
        }
      ]
    },
    {
      "cell_type": "markdown",
      "metadata": {
        "id": "fSOtRD1zhTc_"
      },
      "source": [
        "# **A* Informed Search**"
      ]
    },
    {
      "cell_type": "code",
      "metadata": {
        "id": "kIvDONDCjooq"
      },
      "source": [
        "def find_empty(puzzle):\n",
        "  empty_tile = np.where(puzzle == 0)\n",
        "  return empty_tile"
      ],
      "execution_count": null,
      "outputs": []
    },
    {
      "cell_type": "code",
      "metadata": {
        "id": "5KKG4FbzlKWr"
      },
      "source": [
        "def neighbor(empty_tile, puzzle):\n",
        "  neighbors = []\n",
        "  empty_tile = find_empty(puzzle)\n",
        "  i = empty_tile[0]\n",
        "  j = empty_tile[1]\n",
        "  if i-1 >= 0:\n",
        "    neighbors.append([i - 1, j])\n",
        "  if i+1 <= 2:\n",
        "    neighbors.append([i + 1, j])\n",
        "  if j-1 >= 0:\n",
        "    neighbors.append([i, j-1])\n",
        "  if j+1 <= 2:\n",
        "    neighbors.append([i, j+1])\n",
        "  return neighbors\n"
      ],
      "execution_count": null,
      "outputs": []
    },
    {
      "cell_type": "code",
      "metadata": {
        "id": "MUcke5vVvXZ1"
      },
      "source": [
        "def heuristic(goal, puzzle):\n",
        "  count=0\n",
        "  for i in range(3):\n",
        "    for j in range(3):\n",
        "      if puzzle[i][j]!=0:\n",
        "        goal_index = np.where(goal == puzzle[i][j])         \n",
        "        if goal_index[0] - i != 0 or goal_index[1] - j != 0:\n",
        "          count+=1\n",
        "  return count"
      ],
      "execution_count": null,
      "outputs": []
    },
    {
      "cell_type": "code",
      "metadata": {
        "id": "Z7q9wO4CuOQ3"
      },
      "source": [
        "def graph(coordinates_neighbor_result, puzzle, g, goal, empty_tile, visited,F_list,ind):\n",
        "  index_Array=[]\n",
        "  List=[]\n",
        "  h_list=[]\n",
        "  h=0\n",
        "  \n",
        "  if any(np.array_equal(puzzle, i) for i in visited) == False:\n",
        "      visited.append(np.array(puzzle))\n",
        "      if len(F_List):\n",
        "          F_List.pop(0)\n",
        "          for k in coordinates_neighbor:\n",
        "              temp = puzzle.copy()\n",
        "              temp[k], temp[empty_tile]  = temp[empty_tile], temp[k]\n",
        "              if any(np.array_equal(temp, i) for i in visited) == False:\n",
        "                h = heuristic(goal, temp)\n",
        "                f = g + h\n",
        "                F_List.append((f,ind))\n",
        "                h_list.append(h)\n",
        "                index_Array.append(np.array(temp))\n",
        "                ind=ind+1\n",
        "      else:\n",
        "        print(\"- This Puzzle is Not Solvable\") \n",
        "\n",
        "  F_List.sort()\n",
        "  \n",
        "  if len(F_List):\n",
        "    List=F_List.pop(0)\n",
        "    h= h_list.pop(List[1])\n",
        "    List= index_Array.pop(List[1])\n",
        "    ind=ind-1\n",
        "    print(List)\n",
        "  return g, List, visited , h"
      ],
      "execution_count": null,
      "outputs": []
    },
    {
      "cell_type": "code",
      "metadata": {
        "id": "ZgNvFrOsxExM",
        "colab": {
          "base_uri": "https://localhost:8080/"
        },
        "outputId": "cb80ed69-e387-4b29-e192-628058f84ee6"
      },
      "source": [
        "g = 0\n",
        "k = 0\n",
        "f=0\n",
        "ind=0\n",
        "F_List =[]\n",
        "visited = []\n",
        "result_puzzle = puzzle.copy()\n",
        "t0 = time.time()\n",
        "h=heuristic(goal,result_puzzle)\n",
        "f=h+g\n",
        "F_List.append(result_puzzle)\n",
        "print(\"The Path to the Goal:\\n \")\n",
        "while h != 0:\n",
        "  empty_tile = find_empty(result_puzzle)\n",
        "  coordinates_neighbor = neighbor(empty_tile, result_puzzle)\n",
        "  g, result, visited , h = graph(coordinates_neighbor, result_puzzle, g, goal, empty_tile, visited, F_List,ind)\n",
        "  result_puzzle = result\n",
        "  g +=1\n",
        "t1 = time.time() - t0\n",
        "print(\"The Expanded Nodes: \\n\") \n",
        "print(visited)\n",
        "print(\"Running time of A* Informed Search = \", t1, \" seconds\")\n",
        "print(\"The Cost of The Path :{}\".format(g))"
      ],
      "execution_count": null,
      "outputs": [
        {
          "output_type": "stream",
          "name": "stdout",
          "text": [
            "The Path to the Goal:\n",
            " \n",
            "[[6 8 7]\n",
            " [0 5 4]\n",
            " [3 2 1]]\n",
            "[[6 8 7]\n",
            " [3 5 4]\n",
            " [0 2 1]]\n",
            "[[6 8 7]\n",
            " [3 5 4]\n",
            " [2 0 1]]\n",
            "- This Puzzle is Not Solvable\n",
            "The Expanded Nodes: \n",
            "\n",
            "[array([[0, 8, 7],\n",
            "       [6, 5, 4],\n",
            "       [3, 2, 1]]), array([[6, 8, 7],\n",
            "       [0, 5, 4],\n",
            "       [3, 2, 1]]), array([[6, 8, 7],\n",
            "       [3, 5, 4],\n",
            "       [0, 2, 1]]), array([[6, 8, 7],\n",
            "       [3, 5, 4],\n",
            "       [2, 0, 1]])]\n",
            "Running time of A* Informed Search =  0.006923675537109375  seconds\n",
            "The Cost of The Path :4\n"
          ]
        },
        {
          "output_type": "stream",
          "name": "stderr",
          "text": [
            "/usr/local/lib/python3.7/dist-packages/ipykernel_launcher.py:14: FutureWarning: Using a non-tuple sequence for multidimensional indexing is deprecated; use `arr[tuple(seq)]` instead of `arr[seq]`. In the future this will be interpreted as an array index, `arr[np.array(seq)]`, which will result either in an error or a different result.\n",
            "  \n"
          ]
        }
      ]
    },
    {
      "cell_type": "markdown",
      "metadata": {
        "id": "sAfO1XBL6WIZ"
      },
      "source": [
        "# **BFS**"
      ]
    },
    {
      "cell_type": "code",
      "metadata": {
        "id": "JKQ1sTINhJjX"
      },
      "source": [
        "GoalState = list(goal.flatten())\n",
        "\n",
        "start_state= list()\n",
        "GoalNode = None \n",
        "\n",
        "NodesExpanded = 0 \n",
        "MaxSearchDeep = 0 \n",
        "MaxFrontier = 0 "
      ],
      "execution_count": null,
      "outputs": []
    },
    {
      "cell_type": "code",
      "metadata": {
        "id": "eAGJmHEc6ioH"
      },
      "source": [
        "## class for the graph node for traversal\n",
        "class Node:\n",
        "\tdef __init__( self, state, parent, operator, depth, cost ):\n",
        "\t\t# Contains the state of the node, [list of the state of the board at this node]\n",
        "\t\tself.state = state\n",
        "\t\t# Contains the node that generated this node\n",
        "\t\tself.parent = parent\n",
        "\t\t# Contains the operation that generated this node from the parent\n",
        "\t\tself.operator = operator\n",
        "\t\t# Contains the depth of this node (parent.depth +1)\n",
        "\t\tself.depth = depth\n",
        "\t\t# Contains the path cost of this node from depth 0. Not used for depth/breadth first.\n",
        "\t\tself.cost = cost\n",
        "\t\tif self.state:\n",
        "\t\t\tself.map = ''.join(str(e) for e in self.state)"
      ],
      "execution_count": null,
      "outputs": []
    },
    {
      "cell_type": "code",
      "metadata": {
        "id": "nGPq6Pq16rnV"
      },
      "source": [
        "##function used to move the blank tile\n",
        "def move(state, idx):\n",
        "\tnew_state = state[:]\n",
        "\tindex = new_state.index( 0 )\n",
        "\n",
        "\t#Moves the blank tile up on the board. \n",
        "\tif idx == 0:\n",
        "\t\tif index not in range(0, board_side):\n",
        "\t\t\tnew_state[index - board_side], new_state[index] = new_state[index],new_state[index - board_side]\n",
        "\t\t\treturn new_state\n",
        "\t\telse:\n",
        "\t\t\treturn None\n",
        "\n",
        "\t#Moves the blank tile Down on the board.     \n",
        "\telif idx == 1:\n",
        "\t\tif index not in range(board_len - board_side, board_len):\n",
        "\t\t\tnew_state[index + board_side], new_state[index] = new_state[index] , new_state[index + board_side]\n",
        "\t\t\treturn new_state\n",
        "\t\telse:\n",
        "\t\t\treturn None\n",
        "\n",
        "\t#Moves the blank tile left on the board.\n",
        "\telif idx == 2:\n",
        "\t\tif index not in range(0, board_len, board_side):\n",
        "\t\t\tnew_state[index - 1], new_state[index] = new_state[index], new_state[index - 1]\n",
        "\t\t\treturn new_state\n",
        "\t\telse:\n",
        "\t\t\treturn None\n",
        "\n",
        "\t#Moves the blank tile right on the board\n",
        "\telif idx == 3:\n",
        "\t\tif index not in range(board_side - 1, board_len, board_side):\n",
        "\t\t\tnew_state[index + 1] , new_state[index] = new_state[index],new_state[index + 1]\n",
        "\t\t\treturn new_state\n",
        "\t\telse:\n",
        "\t\t\treturn None"
      ],
      "execution_count": null,
      "outputs": []
    },
    {
      "cell_type": "code",
      "metadata": {
        "id": "1h0uMEdA6x_B"
      },
      "source": [
        "## function used to create new node\n",
        "def create_node( state, parent, operator, depth, cost ):\n",
        "\treturn Node( state, parent, operator, depth, cost )\n",
        "\n",
        "## function used to expand nodes\n",
        "def expand_node( node ):\n",
        "\t\"\"\"Returns a list of expanded nodes\"\"\"\n",
        "\n",
        "\texpanded_nodes = []\n",
        "\n",
        "\texpanded_nodes.append( create_node( move( node.state , 0 ), node, \"u\", node.depth + 1, node.cost + 1 ) )\n",
        "\texpanded_nodes.append( create_node( move( node.state , 1 ), node, \"d\", node.depth + 1, node.cost + 1  ) )\n",
        "\texpanded_nodes.append( create_node( move( node.state , 2 ), node, \"l\", node.depth + 1, node.cost + 1 ) )\n",
        "\texpanded_nodes.append( create_node( move( node.state , 3 ), node, \"r\", node.depth + 1, node.cost + 1  ) )\n",
        "\n",
        "\t# Filter the list and remove the nodes that are impossible (move function returned None)\n",
        "\tfilteredNodes = [node for node in expanded_nodes if node.state != None]\n",
        "\treturn filteredNodes"
      ],
      "execution_count": null,
      "outputs": []
    },
    {
      "cell_type": "code",
      "metadata": {
        "id": "u_uDMEmx63dP"
      },
      "source": [
        "def bfs(startState):\n",
        "\tglobal MaxFrontier, GoalNode, MaxSearchDeep\n",
        "\n",
        "\tboardVisited = set()\n",
        "\tqueue = list([create_node(startState, None, None, 0, 0)])\n",
        "\n",
        "\twhile queue:\n",
        "\t\tnode = queue.pop(0)\n",
        "\t\tboardVisited.add(node.map)\n",
        "\n",
        "\t\tif node.state == GoalState:\n",
        "\t\t\tGoalNode = node\n",
        "\t\t\treturn queue, boardVisited\n",
        "\n",
        "\t\tposiblePaths = expand_node(node)\n",
        "\t\tfor path in posiblePaths:\n",
        "\t\t\tif path.map not in boardVisited:\n",
        "\t\t\t\tqueue.append(path)\n",
        "\t\t\t\tboardVisited.add(path.map)\n",
        "\treturn None, None"
      ],
      "execution_count": null,
      "outputs": []
    },
    {
      "cell_type": "code",
      "metadata": {
        "id": "oginzbiD68dk"
      },
      "source": [
        "def setStartState(start):\n",
        "\tglobal start_state\n",
        "\tstart_state = start"
      ],
      "execution_count": null,
      "outputs": []
    },
    {
      "cell_type": "code",
      "metadata": {
        "id": "v6a3Th-A6_87",
        "colab": {
          "base_uri": "https://localhost:8080/"
        },
        "outputId": "d3368ff6-407c-46bb-bad2-e50641f57d17"
      },
      "source": [
        "global board_len\n",
        "setStartState(list(puzzle.flatten()))\n",
        "board_len = len(start_state)\n",
        "global board_side\n",
        "board_side= int(board_len ** 0.5)\n",
        "t0 = time.time()\n",
        "result, explored = bfs(start_state)\n",
        "t1 = time.time() - t0\n",
        "global moves\n",
        "if result == None:\n",
        "  print (\"No solution found\")\n",
        "  moves = None\n",
        "elif result == [None]:\n",
        "  print (\"Start node was the goal!\")\n",
        "  moves = [None]\n",
        "else:\n",
        "  print(\"Solution Found\")\n",
        "  moves = []\n",
        "  path = []\n",
        "  p = GoalNode\n",
        "  cost = p.cost\n",
        "  search_depth = p.depth\n",
        "  while p.operator != None:\n",
        "    moves.append(p.operator)\n",
        "    path.append(p.state)\n",
        "    p = p.parent\n",
        "  path.reverse()\n",
        "  print(\"cost to the goal= \\n\",cost)\n",
        "  print(\"path to the goal:\\n\",path)\n",
        "  print(\"The search depth:\\n\",search_depth)\n",
        "  print(\"expanded nodes: \\n\",explored)\n",
        "  print(\"number of expanded nodes:\\n\",len(explored))\n",
        "  print(\"Running time = \", t1, \" seconds\")"
      ],
      "execution_count": null,
      "outputs": [
        {
          "output_type": "stream",
          "name": "stdout",
          "text": [
            "Solution Found\n",
            "cost to the goal= \n",
            " 3\n",
            "path to the goal:\n",
            " [[1, 2, 0, 3, 4, 5, 6, 7, 8], [1, 0, 2, 3, 4, 5, 6, 7, 8], [0, 1, 2, 3, 4, 5, 6, 7, 8]]\n",
            "The search depth:\n",
            " 3\n",
            "expanded nodes: \n",
            " {'125304678', '142350678', '125348670', '125034678', '125348607', '125374068', '142305678', '025134678', '125340678', '125374608', '102345678', '125374680', '125308647', '015324678', '125634078', '142035678', '012345678', '105324678', '142375608', '150324678', '120345678', '125348067'}\n",
            "number of expanded nodes:\n",
            " 22\n",
            "Running time =  0.0004494190216064453  seconds\n"
          ]
        }
      ]
    },
    {
      "cell_type": "markdown",
      "metadata": {
        "id": "1PMuE97d8G1K"
      },
      "source": [
        "#**DFS**"
      ]
    },
    {
      "cell_type": "code",
      "metadata": {
        "id": "sGEsCRk68H8U"
      },
      "source": [
        "GoalState = list(goal.flatten())\n",
        "# start_state= list()\n",
        "GoalNode = None\n",
        "\n",
        "NodesExpanded = 0\n",
        "MaxSearchDeep = 0\n",
        "MaxFrontier = 0"
      ],
      "execution_count": null,
      "outputs": []
    },
    {
      "cell_type": "code",
      "metadata": {
        "id": "zeS2rpNo8LpO"
      },
      "source": [
        "## Node class used for the traversal\n",
        "class Node:\n",
        "    def __init__(self, state, parent, operator, depth, cost):\n",
        "        # Contains the state of the node, [list of the state of the board at this node]\n",
        "        self.state = state\n",
        "        # Contains the node that generated this node\n",
        "        self.parent = parent\n",
        "        # Contains the operation that generated this node from the parent\n",
        "        self.operator = operator\n",
        "        # Contains the depth of this node (parent.depth +1)\n",
        "        self.depth = depth\n",
        "        # Contains the path cost of this node from depth 0. Not used for depth/breadth first.\n",
        "        self.cost = cost\n",
        "        if self.state:\n",
        "            self.map = ''.join(str(e) for e in self.state)"
      ],
      "execution_count": null,
      "outputs": []
    },
    {
      "cell_type": "code",
      "metadata": {
        "id": "-n9PEe9C8RtM"
      },
      "source": [
        "## function used to move the blank tile\n",
        "def move(state, idx):\n",
        "    new_state = state[:]\n",
        "    index = new_state.index(0)\n",
        "\n",
        "    # Moves the blank tile up on the board.\n",
        "    if idx == 0:\n",
        "        if index not in range(0, board_side):\n",
        "            new_state[index - board_side], new_state[index] = new_state[index], new_state[index - board_side]\n",
        "            return new_state\n",
        "        else:\n",
        "            return None\n",
        "\n",
        "    # Moves the blank tile Down on the board.\n",
        "    elif idx == 1:\n",
        "        if index not in range(board_len - board_side, board_len):\n",
        "            new_state[index + board_side], new_state[index] = new_state[index], new_state[index + board_side]\n",
        "            return new_state\n",
        "        else:\n",
        "            return None\n",
        "\n",
        "    # Moves the blank tile left on the board.\n",
        "    elif idx == 2:\n",
        "        if index not in range(0, board_len, board_side):\n",
        "            new_state[index - 1], new_state[index] = new_state[index], new_state[index - 1]\n",
        "            return new_state\n",
        "        else:\n",
        "            return None\n",
        "\n",
        "    # Moves the blank tile right on the board\n",
        "    elif idx == 3:\n",
        "        if index not in range(board_side - 1, board_len, board_side):\n",
        "            new_state[index + 1], new_state[index] = new_state[index], new_state[index + 1]\n",
        "            return new_state\n",
        "        else:\n",
        "            return None\n"
      ],
      "execution_count": null,
      "outputs": []
    },
    {
      "cell_type": "code",
      "metadata": {
        "id": "yfca_hBD9q9t"
      },
      "source": [
        "## function used to create node\n",
        "def create_node(state, parent, operator, depth, cost):\n",
        "    return Node(state, parent, operator, depth, cost)\n",
        "\n",
        "## function used to expand graph node\n",
        "def expand_node(node):\n",
        "    \"\"\"Returns a list of expanded nodes\"\"\"\n",
        "\n",
        "    expanded_nodes = []\n",
        "\n",
        "    expanded_nodes.append(create_node(move(node.state, 0), node, \"u\", node.depth + 1, node.cost + 1 ))\n",
        "    expanded_nodes.append(create_node(move(node.state, 1), node, \"d\", node.depth + 1, node.cost + 1 ))\n",
        "    expanded_nodes.append(create_node(move(node.state, 2), node, \"l\", node.depth + 1, node.cost + 1 ))\n",
        "    expanded_nodes.append(create_node(move(node.state, 3), node, \"r\", node.depth + 1, node.cost + 1 ))\n",
        "\n",
        "    # Filter the list and remove the nodes that are impossible (move function returned None)\n",
        "    filteredNodes = [node for node in expanded_nodes if node.state != None]\n",
        "    return filteredNodes"
      ],
      "execution_count": null,
      "outputs": []
    },
    {
      "cell_type": "code",
      "metadata": {
        "id": "HN9tfxEF9r32"
      },
      "source": [
        "## main function for the dfs traversal\n",
        "def dfs(startState):\n",
        "    global MaxFrontier, GoalNode, MaxSearchDeep\n",
        "    global max_depth\n",
        "    max_depth = 0\n",
        "    boardVisited = set()\n",
        "    stack = list([create_node(startState, None, None, 0, 0)])\n",
        "\n",
        "    while stack:\n",
        "        node = stack.pop()\n",
        "        if node.depth > max_depth:\n",
        "            max_depth = node.depth\n",
        "        boardVisited.add(node.map)\n",
        "\n",
        "        if node.state == GoalState:\n",
        "            GoalNode = node\n",
        "            return stack, boardVisited\n",
        "\n",
        "        posiblePaths = reversed(expand_node(node))\n",
        "        for path in posiblePaths:\n",
        "            if path.map not in boardVisited:\n",
        "                stack.append(path)\n",
        "                boardVisited.add(path.map)\n",
        "    return None,None"
      ],
      "execution_count": null,
      "outputs": []
    },
    {
      "cell_type": "code",
      "metadata": {
        "id": "3LF1mzfD9wEk"
      },
      "source": [
        "def setStartState(start):\n",
        "    global start_state\n",
        "    start_state = start"
      ],
      "execution_count": null,
      "outputs": []
    },
    {
      "cell_type": "code",
      "metadata": {
        "id": "9dPJJ4vi91XL",
        "colab": {
          "base_uri": "https://localhost:8080/"
        },
        "outputId": "70d8100c-4324-4272-d680-897f5f6c3477"
      },
      "source": [
        "  global board_len\n",
        "  setStartState(list(puzzle.flatten()))\n",
        "  board_len = len(start_state)\n",
        "  global board_side\n",
        "  board_side = int(board_len ** 0.5)\n",
        "  global moves\n",
        "\n",
        "  t0 = time.time()\n",
        "  result, explored = dfs(start_state)\n",
        "  t1 = time.time()  -t0\n",
        "  if result == None:\n",
        "      print(\"No solution found\")\n",
        "      moves = None\n",
        "\n",
        "  elif result == [None]:\n",
        "      print(\"Start node was the goal!\")\n",
        "      moves = [None]\n",
        "  else:\n",
        "      print(\"Solution Found\")\n",
        "      moves = []\n",
        "      path = []\n",
        "      p = GoalNode\n",
        "      cost = p.cost\n",
        "      while p.operator != None:\n",
        "          moves.append(p.operator)\n",
        "          path.append(p.state)\n",
        "          p = p.parent\n",
        "      path.reverse()\n",
        "      print(\"cost to the goal= \\n\", cost)\n",
        "      print(\"path to the goal:\\n\", path)\n",
        "      print(\"The search depth:\\n\", max_depth)\n",
        "      print(\"number of expanded nodes:\\n\", len(explored))\n",
        "      print(\"Running time = \", t1, \" seconds\")"
      ],
      "execution_count": null,
      "outputs": [
        {
          "output_type": "stream",
          "name": "stdout",
          "text": [
            "Solution Found\n",
            "cost to the goal= \n",
            " 1\n",
            "path to the goal:\n",
            " [[0, 1, 2, 3, 4, 5, 6, 7, 8]]\n",
            "The search depth:\n",
            " 1\n",
            "number of expanded nodes:\n",
            " 4\n",
            "Running time =  0.0001590251922607422  seconds\n"
          ]
        }
      ]
    }
  ]
}